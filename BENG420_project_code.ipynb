{
 "cells": [
  {
   "cell_type": "markdown",
   "metadata": {},
   "source": [
    "# Exploratory Data Analysis"
   ]
  },
  {
   "cell_type": "code",
   "execution_count": 1,
   "metadata": {},
   "outputs": [],
   "source": [
    "    import pandas as pd\n",
    "    import numpy as np\n",
    "    import matplotlib.pyplot as plt\n",
    "    import seaborn as sns"
   ]
  },
  {
   "cell_type": "code",
   "execution_count": 2,
   "metadata": {},
   "outputs": [],
   "source": [
    "df = pd.read_csv('heart.csv')"
   ]
  },
  {
   "cell_type": "code",
   "execution_count": 3,
   "metadata": {},
   "outputs": [
    {
     "data": {
      "text/plain": [
       "(918, 12)"
      ]
     },
     "execution_count": 3,
     "metadata": {},
     "output_type": "execute_result"
    }
   ],
   "source": [
    "df.shape"
   ]
  },
  {
   "cell_type": "code",
   "execution_count": 4,
   "metadata": {},
   "outputs": [
    {
     "data": {
      "text/html": [
       "<div>\n",
       "<style scoped>\n",
       "    .dataframe tbody tr th:only-of-type {\n",
       "        vertical-align: middle;\n",
       "    }\n",
       "\n",
       "    .dataframe tbody tr th {\n",
       "        vertical-align: top;\n",
       "    }\n",
       "\n",
       "    .dataframe thead th {\n",
       "        text-align: right;\n",
       "    }\n",
       "</style>\n",
       "<table border=\"1\" class=\"dataframe\">\n",
       "  <thead>\n",
       "    <tr style=\"text-align: right;\">\n",
       "      <th></th>\n",
       "      <th>Age</th>\n",
       "      <th>Sex</th>\n",
       "      <th>ChestPainType</th>\n",
       "      <th>RestingBP</th>\n",
       "      <th>Cholesterol</th>\n",
       "      <th>FastingBS</th>\n",
       "      <th>RestingECG</th>\n",
       "      <th>MaxHR</th>\n",
       "      <th>ExerciseAngina</th>\n",
       "      <th>Oldpeak</th>\n",
       "      <th>ST_Slope</th>\n",
       "      <th>HeartDisease</th>\n",
       "    </tr>\n",
       "  </thead>\n",
       "  <tbody>\n",
       "    <tr>\n",
       "      <th>0</th>\n",
       "      <td>40</td>\n",
       "      <td>M</td>\n",
       "      <td>ATA</td>\n",
       "      <td>140</td>\n",
       "      <td>289</td>\n",
       "      <td>0</td>\n",
       "      <td>Normal</td>\n",
       "      <td>172</td>\n",
       "      <td>N</td>\n",
       "      <td>0.0</td>\n",
       "      <td>Up</td>\n",
       "      <td>0</td>\n",
       "    </tr>\n",
       "    <tr>\n",
       "      <th>1</th>\n",
       "      <td>49</td>\n",
       "      <td>F</td>\n",
       "      <td>NAP</td>\n",
       "      <td>160</td>\n",
       "      <td>180</td>\n",
       "      <td>0</td>\n",
       "      <td>Normal</td>\n",
       "      <td>156</td>\n",
       "      <td>N</td>\n",
       "      <td>1.0</td>\n",
       "      <td>Flat</td>\n",
       "      <td>1</td>\n",
       "    </tr>\n",
       "    <tr>\n",
       "      <th>2</th>\n",
       "      <td>37</td>\n",
       "      <td>M</td>\n",
       "      <td>ATA</td>\n",
       "      <td>130</td>\n",
       "      <td>283</td>\n",
       "      <td>0</td>\n",
       "      <td>ST</td>\n",
       "      <td>98</td>\n",
       "      <td>N</td>\n",
       "      <td>0.0</td>\n",
       "      <td>Up</td>\n",
       "      <td>0</td>\n",
       "    </tr>\n",
       "    <tr>\n",
       "      <th>3</th>\n",
       "      <td>48</td>\n",
       "      <td>F</td>\n",
       "      <td>ASY</td>\n",
       "      <td>138</td>\n",
       "      <td>214</td>\n",
       "      <td>0</td>\n",
       "      <td>Normal</td>\n",
       "      <td>108</td>\n",
       "      <td>Y</td>\n",
       "      <td>1.5</td>\n",
       "      <td>Flat</td>\n",
       "      <td>1</td>\n",
       "    </tr>\n",
       "    <tr>\n",
       "      <th>4</th>\n",
       "      <td>54</td>\n",
       "      <td>M</td>\n",
       "      <td>NAP</td>\n",
       "      <td>150</td>\n",
       "      <td>195</td>\n",
       "      <td>0</td>\n",
       "      <td>Normal</td>\n",
       "      <td>122</td>\n",
       "      <td>N</td>\n",
       "      <td>0.0</td>\n",
       "      <td>Up</td>\n",
       "      <td>0</td>\n",
       "    </tr>\n",
       "  </tbody>\n",
       "</table>\n",
       "</div>"
      ],
      "text/plain": [
       "   Age Sex ChestPainType  RestingBP  Cholesterol  FastingBS RestingECG  MaxHR  \\\n",
       "0   40   M           ATA        140          289          0     Normal    172   \n",
       "1   49   F           NAP        160          180          0     Normal    156   \n",
       "2   37   M           ATA        130          283          0         ST     98   \n",
       "3   48   F           ASY        138          214          0     Normal    108   \n",
       "4   54   M           NAP        150          195          0     Normal    122   \n",
       "\n",
       "  ExerciseAngina  Oldpeak ST_Slope  HeartDisease  \n",
       "0              N      0.0       Up             0  \n",
       "1              N      1.0     Flat             1  \n",
       "2              N      0.0       Up             0  \n",
       "3              Y      1.5     Flat             1  \n",
       "4              N      0.0       Up             0  "
      ]
     },
     "execution_count": 4,
     "metadata": {},
     "output_type": "execute_result"
    }
   ],
   "source": [
    "# First five rows of data\n",
    "df.head()"
   ]
  },
  {
   "cell_type": "code",
   "execution_count": 5,
   "metadata": {},
   "outputs": [
    {
     "data": {
      "text/plain": [
       "False"
      ]
     },
     "execution_count": 5,
     "metadata": {},
     "output_type": "execute_result"
    }
   ],
   "source": [
    "# Check for missing values\n",
    "df.isnull().values.any()"
   ]
  },
  {
   "cell_type": "code",
   "execution_count": 6,
   "metadata": {},
   "outputs": [
    {
     "name": "stdout",
     "output_type": "stream",
     "text": [
      "<class 'pandas.core.frame.DataFrame'>\n",
      "RangeIndex: 918 entries, 0 to 917\n",
      "Data columns (total 12 columns):\n",
      " #   Column          Non-Null Count  Dtype  \n",
      "---  ------          --------------  -----  \n",
      " 0   Age             918 non-null    int64  \n",
      " 1   Sex             918 non-null    object \n",
      " 2   ChestPainType   918 non-null    object \n",
      " 3   RestingBP       918 non-null    int64  \n",
      " 4   Cholesterol     918 non-null    int64  \n",
      " 5   FastingBS       918 non-null    int64  \n",
      " 6   RestingECG      918 non-null    object \n",
      " 7   MaxHR           918 non-null    int64  \n",
      " 8   ExerciseAngina  918 non-null    object \n",
      " 9   Oldpeak         918 non-null    float64\n",
      " 10  ST_Slope        918 non-null    object \n",
      " 11  HeartDisease    918 non-null    int64  \n",
      "dtypes: float64(1), int64(6), object(5)\n",
      "memory usage: 86.2+ KB\n"
     ]
    }
   ],
   "source": [
    "# Feature counts and types\n",
    "df.info()"
   ]
  },
  {
   "cell_type": "code",
   "execution_count": 7,
   "metadata": {},
   "outputs": [],
   "source": [
    "# Convert categorical variables to numeric\n",
    "# Store mappings of labels to digits\n",
    "mappings = {'Sex':{'M':1, 'F':0},\n",
    "            'ChestPainType': {'ASY': 0, 'NAP': 1, 'ATA': 2, 'TA': 3},\n",
    "            'RestingECG': {'Normal': 0, 'LVH': 1, 'ST': 2}, \n",
    "            'ExerciseAngina': {'N': 0, 'Y': 1}}\n",
    "num_df = df.copy()\n",
    "for col in  df.columns:\n",
    "    if num_df[col].dtype == 'object':\n",
    "        num_df[col] = num_df[col].astype('category').cat.codes\n",
    "    else:\n",
    "        continue"
   ]
  },
  {
   "cell_type": "code",
   "execution_count": 8,
   "metadata": {},
   "outputs": [
    {
     "name": "stdout",
     "output_type": "stream",
     "text": [
      "<class 'pandas.core.frame.DataFrame'>\n",
      "RangeIndex: 918 entries, 0 to 917\n",
      "Data columns (total 12 columns):\n",
      " #   Column          Non-Null Count  Dtype  \n",
      "---  ------          --------------  -----  \n",
      " 0   Age             918 non-null    int64  \n",
      " 1   Sex             918 non-null    int8   \n",
      " 2   ChestPainType   918 non-null    int8   \n",
      " 3   RestingBP       918 non-null    int64  \n",
      " 4   Cholesterol     918 non-null    int64  \n",
      " 5   FastingBS       918 non-null    int64  \n",
      " 6   RestingECG      918 non-null    int8   \n",
      " 7   MaxHR           918 non-null    int64  \n",
      " 8   ExerciseAngina  918 non-null    int8   \n",
      " 9   Oldpeak         918 non-null    float64\n",
      " 10  ST_Slope        918 non-null    int8   \n",
      " 11  HeartDisease    918 non-null    int64  \n",
      "dtypes: float64(1), int64(6), int8(5)\n",
      "memory usage: 54.8 KB\n"
     ]
    }
   ],
   "source": [
    "num_df.info()"
   ]
  },
  {
   "cell_type": "code",
   "execution_count": 9,
   "metadata": {},
   "outputs": [
    {
     "data": {
      "text/html": [
       "<div>\n",
       "<style scoped>\n",
       "    .dataframe tbody tr th:only-of-type {\n",
       "        vertical-align: middle;\n",
       "    }\n",
       "\n",
       "    .dataframe tbody tr th {\n",
       "        vertical-align: top;\n",
       "    }\n",
       "\n",
       "    .dataframe thead th {\n",
       "        text-align: right;\n",
       "    }\n",
       "</style>\n",
       "<table border=\"1\" class=\"dataframe\">\n",
       "  <thead>\n",
       "    <tr style=\"text-align: right;\">\n",
       "      <th></th>\n",
       "      <th>Age</th>\n",
       "      <th>Sex</th>\n",
       "      <th>ChestPainType</th>\n",
       "      <th>RestingBP</th>\n",
       "      <th>Cholesterol</th>\n",
       "      <th>FastingBS</th>\n",
       "      <th>RestingECG</th>\n",
       "      <th>MaxHR</th>\n",
       "      <th>ExerciseAngina</th>\n",
       "      <th>Oldpeak</th>\n",
       "      <th>ST_Slope</th>\n",
       "      <th>HeartDisease</th>\n",
       "    </tr>\n",
       "  </thead>\n",
       "  <tbody>\n",
       "    <tr>\n",
       "      <th>0</th>\n",
       "      <td>40</td>\n",
       "      <td>1</td>\n",
       "      <td>1</td>\n",
       "      <td>140</td>\n",
       "      <td>289</td>\n",
       "      <td>0</td>\n",
       "      <td>1</td>\n",
       "      <td>172</td>\n",
       "      <td>0</td>\n",
       "      <td>0.0</td>\n",
       "      <td>2</td>\n",
       "      <td>0</td>\n",
       "    </tr>\n",
       "    <tr>\n",
       "      <th>1</th>\n",
       "      <td>49</td>\n",
       "      <td>0</td>\n",
       "      <td>2</td>\n",
       "      <td>160</td>\n",
       "      <td>180</td>\n",
       "      <td>0</td>\n",
       "      <td>1</td>\n",
       "      <td>156</td>\n",
       "      <td>0</td>\n",
       "      <td>1.0</td>\n",
       "      <td>1</td>\n",
       "      <td>1</td>\n",
       "    </tr>\n",
       "    <tr>\n",
       "      <th>2</th>\n",
       "      <td>37</td>\n",
       "      <td>1</td>\n",
       "      <td>1</td>\n",
       "      <td>130</td>\n",
       "      <td>283</td>\n",
       "      <td>0</td>\n",
       "      <td>2</td>\n",
       "      <td>98</td>\n",
       "      <td>0</td>\n",
       "      <td>0.0</td>\n",
       "      <td>2</td>\n",
       "      <td>0</td>\n",
       "    </tr>\n",
       "    <tr>\n",
       "      <th>3</th>\n",
       "      <td>48</td>\n",
       "      <td>0</td>\n",
       "      <td>0</td>\n",
       "      <td>138</td>\n",
       "      <td>214</td>\n",
       "      <td>0</td>\n",
       "      <td>1</td>\n",
       "      <td>108</td>\n",
       "      <td>1</td>\n",
       "      <td>1.5</td>\n",
       "      <td>1</td>\n",
       "      <td>1</td>\n",
       "    </tr>\n",
       "    <tr>\n",
       "      <th>4</th>\n",
       "      <td>54</td>\n",
       "      <td>1</td>\n",
       "      <td>2</td>\n",
       "      <td>150</td>\n",
       "      <td>195</td>\n",
       "      <td>0</td>\n",
       "      <td>1</td>\n",
       "      <td>122</td>\n",
       "      <td>0</td>\n",
       "      <td>0.0</td>\n",
       "      <td>2</td>\n",
       "      <td>0</td>\n",
       "    </tr>\n",
       "  </tbody>\n",
       "</table>\n",
       "</div>"
      ],
      "text/plain": [
       "   Age  Sex  ChestPainType  RestingBP  Cholesterol  FastingBS  RestingECG  \\\n",
       "0   40    1              1        140          289          0           1   \n",
       "1   49    0              2        160          180          0           1   \n",
       "2   37    1              1        130          283          0           2   \n",
       "3   48    0              0        138          214          0           1   \n",
       "4   54    1              2        150          195          0           1   \n",
       "\n",
       "   MaxHR  ExerciseAngina  Oldpeak  ST_Slope  HeartDisease  \n",
       "0    172               0      0.0         2             0  \n",
       "1    156               0      1.0         1             1  \n",
       "2     98               0      0.0         2             0  \n",
       "3    108               1      1.5         1             1  \n",
       "4    122               0      0.0         2             0  "
      ]
     },
     "execution_count": 9,
     "metadata": {},
     "output_type": "execute_result"
    }
   ],
   "source": [
    "num_df.head()"
   ]
  },
  {
   "cell_type": "code",
   "execution_count": 10,
   "metadata": {},
   "outputs": [
    {
     "data": {
      "text/html": [
       "<div>\n",
       "<style scoped>\n",
       "    .dataframe tbody tr th:only-of-type {\n",
       "        vertical-align: middle;\n",
       "    }\n",
       "\n",
       "    .dataframe tbody tr th {\n",
       "        vertical-align: top;\n",
       "    }\n",
       "\n",
       "    .dataframe thead th {\n",
       "        text-align: right;\n",
       "    }\n",
       "</style>\n",
       "<table border=\"1\" class=\"dataframe\">\n",
       "  <thead>\n",
       "    <tr style=\"text-align: right;\">\n",
       "      <th></th>\n",
       "      <th>Age</th>\n",
       "      <th>Sex</th>\n",
       "      <th>ChestPainType</th>\n",
       "      <th>RestingBP</th>\n",
       "      <th>Cholesterol</th>\n",
       "      <th>FastingBS</th>\n",
       "      <th>RestingECG</th>\n",
       "      <th>MaxHR</th>\n",
       "      <th>ExerciseAngina</th>\n",
       "      <th>Oldpeak</th>\n",
       "      <th>ST_Slope</th>\n",
       "      <th>HeartDisease</th>\n",
       "    </tr>\n",
       "  </thead>\n",
       "  <tbody>\n",
       "    <tr>\n",
       "      <th>0</th>\n",
       "      <td>0.244898</td>\n",
       "      <td>1.0</td>\n",
       "      <td>0.333333</td>\n",
       "      <td>0.70</td>\n",
       "      <td>0.479270</td>\n",
       "      <td>0.0</td>\n",
       "      <td>0.5</td>\n",
       "      <td>0.788732</td>\n",
       "      <td>0.0</td>\n",
       "      <td>0.295455</td>\n",
       "      <td>1.0</td>\n",
       "      <td>0.0</td>\n",
       "    </tr>\n",
       "    <tr>\n",
       "      <th>1</th>\n",
       "      <td>0.428571</td>\n",
       "      <td>0.0</td>\n",
       "      <td>0.666667</td>\n",
       "      <td>0.80</td>\n",
       "      <td>0.298507</td>\n",
       "      <td>0.0</td>\n",
       "      <td>0.5</td>\n",
       "      <td>0.676056</td>\n",
       "      <td>0.0</td>\n",
       "      <td>0.409091</td>\n",
       "      <td>0.5</td>\n",
       "      <td>1.0</td>\n",
       "    </tr>\n",
       "    <tr>\n",
       "      <th>2</th>\n",
       "      <td>0.183673</td>\n",
       "      <td>1.0</td>\n",
       "      <td>0.333333</td>\n",
       "      <td>0.65</td>\n",
       "      <td>0.469320</td>\n",
       "      <td>0.0</td>\n",
       "      <td>1.0</td>\n",
       "      <td>0.267606</td>\n",
       "      <td>0.0</td>\n",
       "      <td>0.295455</td>\n",
       "      <td>1.0</td>\n",
       "      <td>0.0</td>\n",
       "    </tr>\n",
       "    <tr>\n",
       "      <th>3</th>\n",
       "      <td>0.408163</td>\n",
       "      <td>0.0</td>\n",
       "      <td>0.000000</td>\n",
       "      <td>0.69</td>\n",
       "      <td>0.354892</td>\n",
       "      <td>0.0</td>\n",
       "      <td>0.5</td>\n",
       "      <td>0.338028</td>\n",
       "      <td>1.0</td>\n",
       "      <td>0.465909</td>\n",
       "      <td>0.5</td>\n",
       "      <td>1.0</td>\n",
       "    </tr>\n",
       "    <tr>\n",
       "      <th>4</th>\n",
       "      <td>0.530612</td>\n",
       "      <td>1.0</td>\n",
       "      <td>0.666667</td>\n",
       "      <td>0.75</td>\n",
       "      <td>0.323383</td>\n",
       "      <td>0.0</td>\n",
       "      <td>0.5</td>\n",
       "      <td>0.436620</td>\n",
       "      <td>0.0</td>\n",
       "      <td>0.295455</td>\n",
       "      <td>1.0</td>\n",
       "      <td>0.0</td>\n",
       "    </tr>\n",
       "  </tbody>\n",
       "</table>\n",
       "</div>"
      ],
      "text/plain": [
       "        Age  Sex  ChestPainType  RestingBP  Cholesterol  FastingBS  \\\n",
       "0  0.244898  1.0       0.333333       0.70     0.479270        0.0   \n",
       "1  0.428571  0.0       0.666667       0.80     0.298507        0.0   \n",
       "2  0.183673  1.0       0.333333       0.65     0.469320        0.0   \n",
       "3  0.408163  0.0       0.000000       0.69     0.354892        0.0   \n",
       "4  0.530612  1.0       0.666667       0.75     0.323383        0.0   \n",
       "\n",
       "   RestingECG     MaxHR  ExerciseAngina   Oldpeak  ST_Slope  HeartDisease  \n",
       "0         0.5  0.788732             0.0  0.295455       1.0           0.0  \n",
       "1         0.5  0.676056             0.0  0.409091       0.5           1.0  \n",
       "2         1.0  0.267606             0.0  0.295455       1.0           0.0  \n",
       "3         0.5  0.338028             1.0  0.465909       0.5           1.0  \n",
       "4         0.5  0.436620             0.0  0.295455       1.0           0.0  "
      ]
     },
     "execution_count": 10,
     "metadata": {},
     "output_type": "execute_result"
    }
   ],
   "source": [
    "# Normalize scale of each variable for ML model input\n",
    "from sklearn import preprocessing\n",
    "names = num_df.columns\n",
    "num_df = pd.DataFrame(preprocessing.MinMaxScaler().fit_transform(num_df), columns=names)\n",
    "num_df.head()"
   ]
  },
  {
   "cell_type": "code",
   "execution_count": 11,
   "metadata": {},
   "outputs": [
    {
     "data": {
      "text/plain": [
       "{'ST_Slope': -0.5587707148497032,\n",
       " 'MaxHR': -0.40042076946318844,\n",
       " 'ChestPainType': -0.38682769426256647,\n",
       " 'Cholesterol': -0.2327406389270102,\n",
       " 'RestingECG': 0.057384357013450675,\n",
       " 'RestingBP': 0.10758898037140363,\n",
       " 'FastingBS': 0.2672911861103008,\n",
       " 'Sex': 0.30544491596313866,\n",
       " 'Oldpeak': 0.4039507220628859,\n",
       " 'ExerciseAngina': 0.4942819918242627,\n",
       " 'HeartDisease': 1.0}"
      ]
     },
     "execution_count": 11,
     "metadata": {},
     "output_type": "execute_result"
    }
   ],
   "source": [
    "# Find which features have highest correlation with target (HeartDisease)\n",
    "'''\n",
    "for each feature:\n",
    "    - find correlation between target and feature\n",
    "    - put correlation in correlations list\n",
    "- sort by correlation\n",
    "'''\n",
    "dict_corr = num_df[num_df.columns[1:]].corr()['HeartDisease'][:]\n",
    "dict_corr = dict(dict_corr)\n",
    "sorted_corr = dict(sorted(dict_corr.items(), key=lambda item: item[1]))\n",
    "sorted_corr"
   ]
  },
  {
   "cell_type": "code",
   "execution_count": 12,
   "metadata": {},
   "outputs": [
    {
     "data": {
      "image/png": "[encoded data removed]",
      "text/plain": [
       "<Figure size 864x576 with 1 Axes>"
      ]
     },
     "metadata": {
      "needs_background": "light"
     },
     "output_type": "display_data"
    }
   ],
   "source": [
    "# Graphically confirm feature correlations\n",
    "fig = plt.figure(figsize=(12,8))\n",
    "ax = fig.add_axes([0,0,1,1])\n",
    "ax.bar(sorted_corr.keys(), sorted_corr.values())\n",
    "plt.xlabel('Features')\n",
    "plt.ylabel('Correlation')\n",
    "plt.title('Correlation of Features to Heart Disease')\n",
    "plt.show()"
   ]
  },
  {
   "cell_type": "code",
   "execution_count": 13,
   "metadata": {},
   "outputs": [
    {
     "data": {
      "text/html": [
       "<style  type=\"text/css\" >\n",
       "#T_5e640ce9_cba7_11ec_9c1c_3c7c3fec30a5row0_col0,#T_5e640ce9_cba7_11ec_9c1c_3c7c3fec30a5row1_col1,#T_5e640ce9_cba7_11ec_9c1c_3c7c3fec30a5row2_col2,#T_5e640ce9_cba7_11ec_9c1c_3c7c3fec30a5row3_col3,#T_5e640ce9_cba7_11ec_9c1c_3c7c3fec30a5row4_col4,#T_5e640ce9_cba7_11ec_9c1c_3c7c3fec30a5row5_col5,#T_5e640ce9_cba7_11ec_9c1c_3c7c3fec30a5row6_col6,#T_5e640ce9_cba7_11ec_9c1c_3c7c3fec30a5row7_col7,#T_5e640ce9_cba7_11ec_9c1c_3c7c3fec30a5row8_col8,#T_5e640ce9_cba7_11ec_9c1c_3c7c3fec30a5row9_col9,#T_5e640ce9_cba7_11ec_9c1c_3c7c3fec30a5row10_col10,#T_5e640ce9_cba7_11ec_9c1c_3c7c3fec30a5row11_col11{\n",
       "            background-color:  #5e4fa2;\n",
       "            color:  #f1f1f1;\n",
       "        }#T_5e640ce9_cba7_11ec_9c1c_3c7c3fec30a5row0_col1,#T_5e640ce9_cba7_11ec_9c1c_3c7c3fec30a5row11_col6{\n",
       "            background-color:  #f57547;\n",
       "            color:  #000000;\n",
       "        }#T_5e640ce9_cba7_11ec_9c1c_3c7c3fec30a5row0_col2,#T_5e640ce9_cba7_11ec_9c1c_3c7c3fec30a5row1_col6,#T_5e640ce9_cba7_11ec_9c1c_3c7c3fec30a5row5_col2,#T_5e640ce9_cba7_11ec_9c1c_3c7c3fec30a5row6_col1{\n",
       "            background-color:  #f67c4a;\n",
       "            color:  #000000;\n",
       "        }#T_5e640ce9_cba7_11ec_9c1c_3c7c3fec30a5row0_col3{\n",
       "            background-color:  #fdbd6d;\n",
       "            color:  #000000;\n",
       "        }#T_5e640ce9_cba7_11ec_9c1c_3c7c3fec30a5row0_col4{\n",
       "            background-color:  #de4c4b;\n",
       "            color:  #000000;\n",
       "        }#T_5e640ce9_cba7_11ec_9c1c_3c7c3fec30a5row0_col5{\n",
       "            background-color:  #fece7c;\n",
       "            color:  #000000;\n",
       "        }#T_5e640ce9_cba7_11ec_9c1c_3c7c3fec30a5row0_col6,#T_5e640ce9_cba7_11ec_9c1c_3c7c3fec30a5row6_col7,#T_5e640ce9_cba7_11ec_9c1c_3c7c3fec30a5row10_col6{\n",
       "            background-color:  #e75948;\n",
       "            color:  #000000;\n",
       "        }#T_5e640ce9_cba7_11ec_9c1c_3c7c3fec30a5row0_col7,#T_5e640ce9_cba7_11ec_9c1c_3c7c3fec30a5row7_col6{\n",
       "            background-color:  #a40844;\n",
       "            color:  #f1f1f1;\n",
       "        }#T_5e640ce9_cba7_11ec_9c1c_3c7c3fec30a5row0_col8{\n",
       "            background-color:  #fff0a6;\n",
       "            color:  #000000;\n",
       "        }#T_5e640ce9_cba7_11ec_9c1c_3c7c3fec30a5row0_col9{\n",
       "            background-color:  #fefebd;\n",
       "            color:  #000000;\n",
       "        }#T_5e640ce9_cba7_11ec_9c1c_3c7c3fec30a5row0_col10{\n",
       "            background-color:  #ef6645;\n",
       "            color:  #000000;\n",
       "        }#T_5e640ce9_cba7_11ec_9c1c_3c7c3fec30a5row0_col11{\n",
       "            background-color:  #f5fbaf;\n",
       "            color:  #000000;\n",
       "        }#T_5e640ce9_cba7_11ec_9c1c_3c7c3fec30a5row1_col0{\n",
       "            background-color:  #fdb768;\n",
       "            color:  #000000;\n",
       "        }#T_5e640ce9_cba7_11ec_9c1c_3c7c3fec30a5row1_col2{\n",
       "            background-color:  #f06744;\n",
       "            color:  #000000;\n",
       "        }#T_5e640ce9_cba7_11ec_9c1c_3c7c3fec30a5row1_col3,#T_5e640ce9_cba7_11ec_9c1c_3c7c3fec30a5row2_col6,#T_5e640ce9_cba7_11ec_9c1c_3c7c3fec30a5row7_col5,#T_5e640ce9_cba7_11ec_9c1c_3c7c3fec30a5row7_col11{\n",
       "            background-color:  #d63f4f;\n",
       "            color:  #f1f1f1;\n",
       "        }#T_5e640ce9_cba7_11ec_9c1c_3c7c3fec30a5row1_col4{\n",
       "            background-color:  #b81e48;\n",
       "            color:  #f1f1f1;\n",
       "        }#T_5e640ce9_cba7_11ec_9c1c_3c7c3fec30a5row1_col5{\n",
       "            background-color:  #fdaf62;\n",
       "            color:  #000000;\n",
       "        }#T_5e640ce9_cba7_11ec_9c1c_3c7c3fec30a5row1_col7,#T_5e640ce9_cba7_11ec_9c1c_3c7c3fec30a5row2_col5,#T_5e640ce9_cba7_11ec_9c1c_3c7c3fec30a5row9_col2{\n",
       "            background-color:  #e45549;\n",
       "            color:  #000000;\n",
       "        }#T_5e640ce9_cba7_11ec_9c1c_3c7c3fec30a5row1_col8,#T_5e640ce9_cba7_11ec_9c1c_3c7c3fec30a5row4_col10,#T_5e640ce9_cba7_11ec_9c1c_3c7c3fec30a5row8_col0,#T_5e640ce9_cba7_11ec_9c1c_3c7c3fec30a5row10_col2{\n",
       "            background-color:  #feea9b;\n",
       "            color:  #000000;\n",
       "        }#T_5e640ce9_cba7_11ec_9c1c_3c7c3fec30a5row1_col9{\n",
       "            background-color:  #fee18d;\n",
       "            color:  #000000;\n",
       "        }#T_5e640ce9_cba7_11ec_9c1c_3c7c3fec30a5row1_col10,#T_5e640ce9_cba7_11ec_9c1c_3c7c3fec30a5row3_col2,#T_5e640ce9_cba7_11ec_9c1c_3c7c3fec30a5row3_col5{\n",
       "            background-color:  #fa9656;\n",
       "            color:  #000000;\n",
       "        }#T_5e640ce9_cba7_11ec_9c1c_3c7c3fec30a5row1_col11{\n",
       "            background-color:  #f2faaa;\n",
       "            color:  #000000;\n",
       "        }#T_5e640ce9_cba7_11ec_9c1c_3c7c3fec30a5row2_col0{\n",
       "            background-color:  #f67a49;\n",
       "            color:  #000000;\n",
       "        }#T_5e640ce9_cba7_11ec_9c1c_3c7c3fec30a5row2_col1{\n",
       "            background-color:  #be254a;\n",
       "            color:  #f1f1f1;\n",
       "        }#T_5e640ce9_cba7_11ec_9c1c_3c7c3fec30a5row2_col3,#T_5e640ce9_cba7_11ec_9c1c_3c7c3fec30a5row8_col10,#T_5e640ce9_cba7_11ec_9c1c_3c7c3fec30a5row10_col0{\n",
       "            background-color:  #cb334d;\n",
       "            color:  #f1f1f1;\n",
       "        }#T_5e640ce9_cba7_11ec_9c1c_3c7c3fec30a5row2_col4{\n",
       "            background-color:  #f99355;\n",
       "            color:  #000000;\n",
       "        }#T_5e640ce9_cba7_11ec_9c1c_3c7c3fec30a5row2_col7,#T_5e640ce9_cba7_11ec_9c1c_3c7c3fec30a5row2_col10{\n",
       "            background-color:  #fffdbc;\n",
       "            color:  #000000;\n",
       "        }#T_5e640ce9_cba7_11ec_9c1c_3c7c3fec30a5row2_col8,#T_5e640ce9_cba7_11ec_9c1c_3c7c3fec30a5row6_col4{\n",
       "            background-color:  #ba2049;\n",
       "            color:  #f1f1f1;\n",
       "        }#T_5e640ce9_cba7_11ec_9c1c_3c7c3fec30a5row2_col9{\n",
       "            background-color:  #f57748;\n",
       "            color:  #000000;\n",
       "        }#T_5e640ce9_cba7_11ec_9c1c_3c7c3fec30a5row2_col11{\n",
       "            background-color:  #d8434e;\n",
       "            color:  #f1f1f1;\n",
       "        }#T_5e640ce9_cba7_11ec_9c1c_3c7c3fec30a5row3_col0{\n",
       "            background-color:  #fff2aa;\n",
       "            color:  #000000;\n",
       "        }#T_5e640ce9_cba7_11ec_9c1c_3c7c3fec30a5row3_col1,#T_5e640ce9_cba7_11ec_9c1c_3c7c3fec30a5row9_col7{\n",
       "            background-color:  #ea5e47;\n",
       "            color:  #000000;\n",
       "        }#T_5e640ce9_cba7_11ec_9c1c_3c7c3fec30a5row3_col4{\n",
       "            background-color:  #fca55d;\n",
       "            color:  #000000;\n",
       "        }#T_5e640ce9_cba7_11ec_9c1c_3c7c3fec30a5row3_col6,#T_5e640ce9_cba7_11ec_9c1c_3c7c3fec30a5row8_col4{\n",
       "            background-color:  #ee6445;\n",
       "            color:  #000000;\n",
       "        }#T_5e640ce9_cba7_11ec_9c1c_3c7c3fec30a5row3_col7{\n",
       "            background-color:  #f47044;\n",
       "            color:  #000000;\n",
       "        }#T_5e640ce9_cba7_11ec_9c1c_3c7c3fec30a5row3_col8{\n",
       "            background-color:  #fee28f;\n",
       "            color:  #000000;\n",
       "        }#T_5e640ce9_cba7_11ec_9c1c_3c7c3fec30a5row3_col9{\n",
       "            background-color:  #feeda1;\n",
       "            color:  #000000;\n",
       "        }#T_5e640ce9_cba7_11ec_9c1c_3c7c3fec30a5row3_col10{\n",
       "            background-color:  #fdb365;\n",
       "            color:  #000000;\n",
       "        }#T_5e640ce9_cba7_11ec_9c1c_3c7c3fec30a5row3_col11{\n",
       "            background-color:  #fee999;\n",
       "            color:  #000000;\n",
       "        }#T_5e640ce9_cba7_11ec_9c1c_3c7c3fec30a5row4_col0,#T_5e640ce9_cba7_11ec_9c1c_3c7c3fec30a5row4_col11{\n",
       "            background-color:  #f57245;\n",
       "            color:  #000000;\n",
       "        }#T_5e640ce9_cba7_11ec_9c1c_3c7c3fec30a5row4_col1,#T_5e640ce9_cba7_11ec_9c1c_3c7c3fec30a5row4_col5,#T_5e640ce9_cba7_11ec_9c1c_3c7c3fec30a5row4_col6,#T_5e640ce9_cba7_11ec_9c1c_3c7c3fec30a5row5_col4,#T_5e640ce9_cba7_11ec_9c1c_3c7c3fec30a5row7_col0,#T_5e640ce9_cba7_11ec_9c1c_3c7c3fec30a5row7_col3,#T_5e640ce9_cba7_11ec_9c1c_3c7c3fec30a5row10_col8,#T_5e640ce9_cba7_11ec_9c1c_3c7c3fec30a5row10_col9,#T_5e640ce9_cba7_11ec_9c1c_3c7c3fec30a5row10_col11,#T_5e640ce9_cba7_11ec_9c1c_3c7c3fec30a5row11_col2,#T_5e640ce9_cba7_11ec_9c1c_3c7c3fec30a5row11_col7,#T_5e640ce9_cba7_11ec_9c1c_3c7c3fec30a5row11_col10{\n",
       "            background-color:  #9e0142;\n",
       "            color:  #f1f1f1;\n",
       "        }#T_5e640ce9_cba7_11ec_9c1c_3c7c3fec30a5row4_col2,#T_5e640ce9_cba7_11ec_9c1c_3c7c3fec30a5row8_col1{\n",
       "            background-color:  #fdbb6c;\n",
       "            color:  #000000;\n",
       "        }#T_5e640ce9_cba7_11ec_9c1c_3c7c3fec30a5row4_col3,#T_5e640ce9_cba7_11ec_9c1c_3c7c3fec30a5row5_col7{\n",
       "            background-color:  #f26944;\n",
       "            color:  #000000;\n",
       "        }#T_5e640ce9_cba7_11ec_9c1c_3c7c3fec30a5row4_col7{\n",
       "            background-color:  #fff1a8;\n",
       "            color:  #000000;\n",
       "        }#T_5e640ce9_cba7_11ec_9c1c_3c7c3fec30a5row4_col8,#T_5e640ce9_cba7_11ec_9c1c_3c7c3fec30a5row6_col5{\n",
       "            background-color:  #fb9d59;\n",
       "            color:  #000000;\n",
       "        }#T_5e640ce9_cba7_11ec_9c1c_3c7c3fec30a5row4_col9,#T_5e640ce9_cba7_11ec_9c1c_3c7c3fec30a5row5_col9{\n",
       "            background-color:  #fed07e;\n",
       "            color:  #000000;\n",
       "        }#T_5e640ce9_cba7_11ec_9c1c_3c7c3fec30a5row5_col0,#T_5e640ce9_cba7_11ec_9c1c_3c7c3fec30a5row11_col1,#T_5e640ce9_cba7_11ec_9c1c_3c7c3fec30a5row11_col5{\n",
       "            background-color:  #fee695;\n",
       "            color:  #000000;\n",
       "        }#T_5e640ce9_cba7_11ec_9c1c_3c7c3fec30a5row5_col1{\n",
       "            background-color:  #fa9857;\n",
       "            color:  #000000;\n",
       "        }#T_5e640ce9_cba7_11ec_9c1c_3c7c3fec30a5row5_col3{\n",
       "            background-color:  #e85b48;\n",
       "            color:  #000000;\n",
       "        }#T_5e640ce9_cba7_11ec_9c1c_3c7c3fec30a5row5_col6{\n",
       "            background-color:  #f7844e;\n",
       "            color:  #000000;\n",
       "        }#T_5e640ce9_cba7_11ec_9c1c_3c7c3fec30a5row5_col8{\n",
       "            background-color:  #fdc372;\n",
       "            color:  #000000;\n",
       "        }#T_5e640ce9_cba7_11ec_9c1c_3c7c3fec30a5row5_col10{\n",
       "            background-color:  #f88950;\n",
       "            color:  #000000;\n",
       "        }#T_5e640ce9_cba7_11ec_9c1c_3c7c3fec30a5row5_col11,#T_5e640ce9_cba7_11ec_9c1c_3c7c3fec30a5row10_col7{\n",
       "            background-color:  #f8fcb4;\n",
       "            color:  #000000;\n",
       "        }#T_5e640ce9_cba7_11ec_9c1c_3c7c3fec30a5row6_col0{\n",
       "            background-color:  #fa9b58;\n",
       "            color:  #000000;\n",
       "        }#T_5e640ce9_cba7_11ec_9c1c_3c7c3fec30a5row6_col2,#T_5e640ce9_cba7_11ec_9c1c_3c7c3fec30a5row7_col9,#T_5e640ce9_cba7_11ec_9c1c_3c7c3fec30a5row8_col6{\n",
       "            background-color:  #f67f4b;\n",
       "            color:  #000000;\n",
       "        }#T_5e640ce9_cba7_11ec_9c1c_3c7c3fec30a5row6_col3{\n",
       "            background-color:  #dc484c;\n",
       "            color:  #f1f1f1;\n",
       "        }#T_5e640ce9_cba7_11ec_9c1c_3c7c3fec30a5row6_col8,#T_5e640ce9_cba7_11ec_9c1c_3c7c3fec30a5row6_col10{\n",
       "            background-color:  #fec877;\n",
       "            color:  #000000;\n",
       "        }#T_5e640ce9_cba7_11ec_9c1c_3c7c3fec30a5row6_col9{\n",
       "            background-color:  #fdb96a;\n",
       "            color:  #000000;\n",
       "        }#T_5e640ce9_cba7_11ec_9c1c_3c7c3fec30a5row6_col11{\n",
       "            background-color:  #fede89;\n",
       "            color:  #000000;\n",
       "        }#T_5e640ce9_cba7_11ec_9c1c_3c7c3fec30a5row7_col1{\n",
       "            background-color:  #a20643;\n",
       "            color:  #f1f1f1;\n",
       "        }#T_5e640ce9_cba7_11ec_9c1c_3c7c3fec30a5row7_col2{\n",
       "            background-color:  #fffbb8;\n",
       "            color:  #000000;\n",
       "        }#T_5e640ce9_cba7_11ec_9c1c_3c7c3fec30a5row7_col4{\n",
       "            background-color:  #fedc88;\n",
       "            color:  #000000;\n",
       "        }#T_5e640ce9_cba7_11ec_9c1c_3c7c3fec30a5row7_col8,#T_5e640ce9_cba7_11ec_9c1c_3c7c3fec30a5row10_col1{\n",
       "            background-color:  #b41947;\n",
       "            color:  #f1f1f1;\n",
       "        }#T_5e640ce9_cba7_11ec_9c1c_3c7c3fec30a5row7_col10{\n",
       "            background-color:  #ebf7a0;\n",
       "            color:  #000000;\n",
       "        }#T_5e640ce9_cba7_11ec_9c1c_3c7c3fec30a5row8_col2,#T_5e640ce9_cba7_11ec_9c1c_3c7c3fec30a5row8_col7,#T_5e640ce9_cba7_11ec_9c1c_3c7c3fec30a5row11_col4{\n",
       "            background-color:  #a90d45;\n",
       "            color:  #f1f1f1;\n",
       "        }#T_5e640ce9_cba7_11ec_9c1c_3c7c3fec30a5row8_col3{\n",
       "            background-color:  #f8864f;\n",
       "            color:  #000000;\n",
       "        }#T_5e640ce9_cba7_11ec_9c1c_3c7c3fec30a5row8_col5,#T_5e640ce9_cba7_11ec_9c1c_3c7c3fec30a5row9_col1{\n",
       "            background-color:  #f99153;\n",
       "            color:  #000000;\n",
       "        }#T_5e640ce9_cba7_11ec_9c1c_3c7c3fec30a5row8_col9{\n",
       "            background-color:  #e1f399;\n",
       "            color:  #000000;\n",
       "        }#T_5e640ce9_cba7_11ec_9c1c_3c7c3fec30a5row8_col11{\n",
       "            background-color:  #bae3a1;\n",
       "            color:  #000000;\n",
       "        }#T_5e640ce9_cba7_11ec_9c1c_3c7c3fec30a5row9_col0{\n",
       "            background-color:  #fff3ac;\n",
       "            color:  #000000;\n",
       "        }#T_5e640ce9_cba7_11ec_9c1c_3c7c3fec30a5row9_col3,#T_5e640ce9_cba7_11ec_9c1c_3c7c3fec30a5row9_col4,#T_5e640ce9_cba7_11ec_9c1c_3c7c3fec30a5row9_col5{\n",
       "            background-color:  #f88c51;\n",
       "            color:  #000000;\n",
       "        }#T_5e640ce9_cba7_11ec_9c1c_3c7c3fec30a5row9_col6{\n",
       "            background-color:  #e3534a;\n",
       "            color:  #000000;\n",
       "        }#T_5e640ce9_cba7_11ec_9c1c_3c7c3fec30a5row9_col8{\n",
       "            background-color:  #e9f69d;\n",
       "            color:  #000000;\n",
       "        }#T_5e640ce9_cba7_11ec_9c1c_3c7c3fec30a5row9_col10{\n",
       "            background-color:  #b11747;\n",
       "            color:  #f1f1f1;\n",
       "        }#T_5e640ce9_cba7_11ec_9c1c_3c7c3fec30a5row9_col11{\n",
       "            background-color:  #daf09a;\n",
       "            color:  #000000;\n",
       "        }#T_5e640ce9_cba7_11ec_9c1c_3c7c3fec30a5row10_col3{\n",
       "            background-color:  #af1446;\n",
       "            color:  #f1f1f1;\n",
       "        }#T_5e640ce9_cba7_11ec_9c1c_3c7c3fec30a5row10_col4{\n",
       "            background-color:  #fcaa5f;\n",
       "            color:  #000000;\n",
       "        }#T_5e640ce9_cba7_11ec_9c1c_3c7c3fec30a5row10_col5{\n",
       "            background-color:  #c32a4b;\n",
       "            color:  #f1f1f1;\n",
       "        }#T_5e640ce9_cba7_11ec_9c1c_3c7c3fec30a5row11_col0{\n",
       "            background-color:  #fffab6;\n",
       "            color:  #000000;\n",
       "        }#T_5e640ce9_cba7_11ec_9c1c_3c7c3fec30a5row11_col3{\n",
       "            background-color:  #f36b43;\n",
       "            color:  #000000;\n",
       "        }#T_5e640ce9_cba7_11ec_9c1c_3c7c3fec30a5row11_col8{\n",
       "            background-color:  #caea9e;\n",
       "            color:  #000000;\n",
       "        }#T_5e640ce9_cba7_11ec_9c1c_3c7c3fec30a5row11_col9{\n",
       "            background-color:  #e4f498;\n",
       "            color:  #000000;\n",
       "        }</style><table id=\"T_5e640ce9_cba7_11ec_9c1c_3c7c3fec30a5\" ><thead>    <tr>        <th class=\"blank level0\" ></th>        <th class=\"col_heading level0 col0\" >Age</th>        <th class=\"col_heading level0 col1\" >Sex</th>        <th class=\"col_heading level0 col2\" >ChestPainType</th>        <th class=\"col_heading level0 col3\" >RestingBP</th>        <th class=\"col_heading level0 col4\" >Cholesterol</th>        <th class=\"col_heading level0 col5\" >FastingBS</th>        <th class=\"col_heading level0 col6\" >RestingECG</th>        <th class=\"col_heading level0 col7\" >MaxHR</th>        <th class=\"col_heading level0 col8\" >ExerciseAngina</th>        <th class=\"col_heading level0 col9\" >Oldpeak</th>        <th class=\"col_heading level0 col10\" >ST_Slope</th>        <th class=\"col_heading level0 col11\" >HeartDisease</th>    </tr></thead><tbody>\n",
       "                <tr>\n",
       "                        <th id=\"T_5e640ce9_cba7_11ec_9c1c_3c7c3fec30a5level0_row0\" class=\"row_heading level0 row0\" >Age</th>\n",
       "                        <td id=\"T_5e640ce9_cba7_11ec_9c1c_3c7c3fec30a5row0_col0\" class=\"data row0 col0\" >1.000000</td>\n",
       "                        <td id=\"T_5e640ce9_cba7_11ec_9c1c_3c7c3fec30a5row0_col1\" class=\"data row0 col1\" >0.055750</td>\n",
       "                        <td id=\"T_5e640ce9_cba7_11ec_9c1c_3c7c3fec30a5row0_col2\" class=\"data row0 col2\" >-0.077150</td>\n",
       "                        <td id=\"T_5e640ce9_cba7_11ec_9c1c_3c7c3fec30a5row0_col3\" class=\"data row0 col3\" >0.254399</td>\n",
       "                        <td id=\"T_5e640ce9_cba7_11ec_9c1c_3c7c3fec30a5row0_col4\" class=\"data row0 col4\" >-0.095282</td>\n",
       "                        <td id=\"T_5e640ce9_cba7_11ec_9c1c_3c7c3fec30a5row0_col5\" class=\"data row0 col5\" >0.198039</td>\n",
       "                        <td id=\"T_5e640ce9_cba7_11ec_9c1c_3c7c3fec30a5row0_col6\" class=\"data row0 col6\" >-0.007484</td>\n",
       "                        <td id=\"T_5e640ce9_cba7_11ec_9c1c_3c7c3fec30a5row0_col7\" class=\"data row0 col7\" >-0.382045</td>\n",
       "                        <td id=\"T_5e640ce9_cba7_11ec_9c1c_3c7c3fec30a5row0_col8\" class=\"data row0 col8\" >0.215793</td>\n",
       "                        <td id=\"T_5e640ce9_cba7_11ec_9c1c_3c7c3fec30a5row0_col9\" class=\"data row0 col9\" >0.258612</td>\n",
       "                        <td id=\"T_5e640ce9_cba7_11ec_9c1c_3c7c3fec30a5row0_col10\" class=\"data row0 col10\" >-0.268264</td>\n",
       "                        <td id=\"T_5e640ce9_cba7_11ec_9c1c_3c7c3fec30a5row0_col11\" class=\"data row0 col11\" >0.282039</td>\n",
       "            </tr>\n",
       "            <tr>\n",
       "                        <th id=\"T_5e640ce9_cba7_11ec_9c1c_3c7c3fec30a5level0_row1\" class=\"row_heading level0 row1\" >Sex</th>\n",
       "                        <td id=\"T_5e640ce9_cba7_11ec_9c1c_3c7c3fec30a5row1_col0\" class=\"data row1 col0\" >0.055750</td>\n",
       "                        <td id=\"T_5e640ce9_cba7_11ec_9c1c_3c7c3fec30a5row1_col1\" class=\"data row1 col1\" >1.000000</td>\n",
       "                        <td id=\"T_5e640ce9_cba7_11ec_9c1c_3c7c3fec30a5row1_col2\" class=\"data row1 col2\" >-0.126559</td>\n",
       "                        <td id=\"T_5e640ce9_cba7_11ec_9c1c_3c7c3fec30a5row1_col3\" class=\"data row1 col3\" >0.005133</td>\n",
       "                        <td id=\"T_5e640ce9_cba7_11ec_9c1c_3c7c3fec30a5row1_col4\" class=\"data row1 col4\" >-0.200092</td>\n",
       "                        <td id=\"T_5e640ce9_cba7_11ec_9c1c_3c7c3fec30a5row1_col5\" class=\"data row1 col5\" >0.120076</td>\n",
       "                        <td id=\"T_5e640ce9_cba7_11ec_9c1c_3c7c3fec30a5row1_col6\" class=\"data row1 col6\" >0.071552</td>\n",
       "                        <td id=\"T_5e640ce9_cba7_11ec_9c1c_3c7c3fec30a5row1_col7\" class=\"data row1 col7\" >-0.189186</td>\n",
       "                        <td id=\"T_5e640ce9_cba7_11ec_9c1c_3c7c3fec30a5row1_col8\" class=\"data row1 col8\" >0.190664</td>\n",
       "                        <td id=\"T_5e640ce9_cba7_11ec_9c1c_3c7c3fec30a5row1_col9\" class=\"data row1 col9\" >0.105734</td>\n",
       "                        <td id=\"T_5e640ce9_cba7_11ec_9c1c_3c7c3fec30a5row1_col10\" class=\"data row1 col10\" >-0.150693</td>\n",
       "                        <td id=\"T_5e640ce9_cba7_11ec_9c1c_3c7c3fec30a5row1_col11\" class=\"data row1 col11\" >0.305445</td>\n",
       "            </tr>\n",
       "            <tr>\n",
       "                        <th id=\"T_5e640ce9_cba7_11ec_9c1c_3c7c3fec30a5level0_row2\" class=\"row_heading level0 row2\" >ChestPainType</th>\n",
       "                        <td id=\"T_5e640ce9_cba7_11ec_9c1c_3c7c3fec30a5row2_col0\" class=\"data row2 col0\" >-0.077150</td>\n",
       "                        <td id=\"T_5e640ce9_cba7_11ec_9c1c_3c7c3fec30a5row2_col1\" class=\"data row2 col1\" >-0.126559</td>\n",
       "                        <td id=\"T_5e640ce9_cba7_11ec_9c1c_3c7c3fec30a5row2_col2\" class=\"data row2 col2\" >1.000000</td>\n",
       "                        <td id=\"T_5e640ce9_cba7_11ec_9c1c_3c7c3fec30a5row2_col3\" class=\"data row2 col3\" >-0.020647</td>\n",
       "                        <td id=\"T_5e640ce9_cba7_11ec_9c1c_3c7c3fec30a5row2_col4\" class=\"data row2 col4\" >0.067880</td>\n",
       "                        <td id=\"T_5e640ce9_cba7_11ec_9c1c_3c7c3fec30a5row2_col5\" class=\"data row2 col5\" >-0.073151</td>\n",
       "                        <td id=\"T_5e640ce9_cba7_11ec_9c1c_3c7c3fec30a5row2_col6\" class=\"data row2 col6\" >-0.072537</td>\n",
       "                        <td id=\"T_5e640ce9_cba7_11ec_9c1c_3c7c3fec30a5row2_col7\" class=\"data row2 col7\" >0.289123</td>\n",
       "                        <td id=\"T_5e640ce9_cba7_11ec_9c1c_3c7c3fec30a5row2_col8\" class=\"data row2 col8\" >-0.354727</td>\n",
       "                        <td id=\"T_5e640ce9_cba7_11ec_9c1c_3c7c3fec30a5row2_col9\" class=\"data row2 col9\" >-0.177377</td>\n",
       "                        <td id=\"T_5e640ce9_cba7_11ec_9c1c_3c7c3fec30a5row2_col10\" class=\"data row2 col10\" >0.213521</td>\n",
       "                        <td id=\"T_5e640ce9_cba7_11ec_9c1c_3c7c3fec30a5row2_col11\" class=\"data row2 col11\" >-0.386828</td>\n",
       "            </tr>\n",
       "            <tr>\n",
       "                        <th id=\"T_5e640ce9_cba7_11ec_9c1c_3c7c3fec30a5level0_row3\" class=\"row_heading level0 row3\" >RestingBP</th>\n",
       "                        <td id=\"T_5e640ce9_cba7_11ec_9c1c_3c7c3fec30a5row3_col0\" class=\"data row3 col0\" >0.254399</td>\n",
       "                        <td id=\"T_5e640ce9_cba7_11ec_9c1c_3c7c3fec30a5row3_col1\" class=\"data row3 col1\" >0.005133</td>\n",
       "                        <td id=\"T_5e640ce9_cba7_11ec_9c1c_3c7c3fec30a5row3_col2\" class=\"data row3 col2\" >-0.020647</td>\n",
       "                        <td id=\"T_5e640ce9_cba7_11ec_9c1c_3c7c3fec30a5row3_col3\" class=\"data row3 col3\" >1.000000</td>\n",
       "                        <td id=\"T_5e640ce9_cba7_11ec_9c1c_3c7c3fec30a5row3_col4\" class=\"data row3 col4\" >0.100893</td>\n",
       "                        <td id=\"T_5e640ce9_cba7_11ec_9c1c_3c7c3fec30a5row3_col5\" class=\"data row3 col5\" >0.070193</td>\n",
       "                        <td id=\"T_5e640ce9_cba7_11ec_9c1c_3c7c3fec30a5row3_col6\" class=\"data row3 col6\" >0.022656</td>\n",
       "                        <td id=\"T_5e640ce9_cba7_11ec_9c1c_3c7c3fec30a5row3_col7\" class=\"data row3 col7\" >-0.112135</td>\n",
       "                        <td id=\"T_5e640ce9_cba7_11ec_9c1c_3c7c3fec30a5row3_col8\" class=\"data row3 col8\" >0.155101</td>\n",
       "                        <td id=\"T_5e640ce9_cba7_11ec_9c1c_3c7c3fec30a5row3_col9\" class=\"data row3 col9\" >0.164803</td>\n",
       "                        <td id=\"T_5e640ce9_cba7_11ec_9c1c_3c7c3fec30a5row3_col10\" class=\"data row3 col10\" >-0.075162</td>\n",
       "                        <td id=\"T_5e640ce9_cba7_11ec_9c1c_3c7c3fec30a5row3_col11\" class=\"data row3 col11\" >0.107589</td>\n",
       "            </tr>\n",
       "            <tr>\n",
       "                        <th id=\"T_5e640ce9_cba7_11ec_9c1c_3c7c3fec30a5level0_row4\" class=\"row_heading level0 row4\" >Cholesterol</th>\n",
       "                        <td id=\"T_5e640ce9_cba7_11ec_9c1c_3c7c3fec30a5row4_col0\" class=\"data row4 col0\" >-0.095282</td>\n",
       "                        <td id=\"T_5e640ce9_cba7_11ec_9c1c_3c7c3fec30a5row4_col1\" class=\"data row4 col1\" >-0.200092</td>\n",
       "                        <td id=\"T_5e640ce9_cba7_11ec_9c1c_3c7c3fec30a5row4_col2\" class=\"data row4 col2\" >0.067880</td>\n",
       "                        <td id=\"T_5e640ce9_cba7_11ec_9c1c_3c7c3fec30a5row4_col3\" class=\"data row4 col3\" >0.100893</td>\n",
       "                        <td id=\"T_5e640ce9_cba7_11ec_9c1c_3c7c3fec30a5row4_col4\" class=\"data row4 col4\" >1.000000</td>\n",
       "                        <td id=\"T_5e640ce9_cba7_11ec_9c1c_3c7c3fec30a5row4_col5\" class=\"data row4 col5\" >-0.260974</td>\n",
       "                        <td id=\"T_5e640ce9_cba7_11ec_9c1c_3c7c3fec30a5row4_col6\" class=\"data row4 col6\" >-0.196544</td>\n",
       "                        <td id=\"T_5e640ce9_cba7_11ec_9c1c_3c7c3fec30a5row4_col7\" class=\"data row4 col7\" >0.235792</td>\n",
       "                        <td id=\"T_5e640ce9_cba7_11ec_9c1c_3c7c3fec30a5row4_col8\" class=\"data row4 col8\" >-0.034166</td>\n",
       "                        <td id=\"T_5e640ce9_cba7_11ec_9c1c_3c7c3fec30a5row4_col9\" class=\"data row4 col9\" >0.050148</td>\n",
       "                        <td id=\"T_5e640ce9_cba7_11ec_9c1c_3c7c3fec30a5row4_col10\" class=\"data row4 col10\" >0.111471</td>\n",
       "                        <td id=\"T_5e640ce9_cba7_11ec_9c1c_3c7c3fec30a5row4_col11\" class=\"data row4 col11\" >-0.232741</td>\n",
       "            </tr>\n",
       "            <tr>\n",
       "                        <th id=\"T_5e640ce9_cba7_11ec_9c1c_3c7c3fec30a5level0_row5\" class=\"row_heading level0 row5\" >FastingBS</th>\n",
       "                        <td id=\"T_5e640ce9_cba7_11ec_9c1c_3c7c3fec30a5row5_col0\" class=\"data row5 col0\" >0.198039</td>\n",
       "                        <td id=\"T_5e640ce9_cba7_11ec_9c1c_3c7c3fec30a5row5_col1\" class=\"data row5 col1\" >0.120076</td>\n",
       "                        <td id=\"T_5e640ce9_cba7_11ec_9c1c_3c7c3fec30a5row5_col2\" class=\"data row5 col2\" >-0.073151</td>\n",
       "                        <td id=\"T_5e640ce9_cba7_11ec_9c1c_3c7c3fec30a5row5_col3\" class=\"data row5 col3\" >0.070193</td>\n",
       "                        <td id=\"T_5e640ce9_cba7_11ec_9c1c_3c7c3fec30a5row5_col4\" class=\"data row5 col4\" >-0.260974</td>\n",
       "                        <td id=\"T_5e640ce9_cba7_11ec_9c1c_3c7c3fec30a5row5_col5\" class=\"data row5 col5\" >1.000000</td>\n",
       "                        <td id=\"T_5e640ce9_cba7_11ec_9c1c_3c7c3fec30a5row5_col6\" class=\"data row5 col6\" >0.087050</td>\n",
       "                        <td id=\"T_5e640ce9_cba7_11ec_9c1c_3c7c3fec30a5row5_col7\" class=\"data row5 col7\" >-0.131438</td>\n",
       "                        <td id=\"T_5e640ce9_cba7_11ec_9c1c_3c7c3fec30a5row5_col8\" class=\"data row5 col8\" >0.060451</td>\n",
       "                        <td id=\"T_5e640ce9_cba7_11ec_9c1c_3c7c3fec30a5row5_col9\" class=\"data row5 col9\" >0.052698</td>\n",
       "                        <td id=\"T_5e640ce9_cba7_11ec_9c1c_3c7c3fec30a5row5_col10\" class=\"data row5 col10\" >-0.175774</td>\n",
       "                        <td id=\"T_5e640ce9_cba7_11ec_9c1c_3c7c3fec30a5row5_col11\" class=\"data row5 col11\" >0.267291</td>\n",
       "            </tr>\n",
       "            <tr>\n",
       "                        <th id=\"T_5e640ce9_cba7_11ec_9c1c_3c7c3fec30a5level0_row6\" class=\"row_heading level0 row6\" >RestingECG</th>\n",
       "                        <td id=\"T_5e640ce9_cba7_11ec_9c1c_3c7c3fec30a5row6_col0\" class=\"data row6 col0\" >-0.007484</td>\n",
       "                        <td id=\"T_5e640ce9_cba7_11ec_9c1c_3c7c3fec30a5row6_col1\" class=\"data row6 col1\" >0.071552</td>\n",
       "                        <td id=\"T_5e640ce9_cba7_11ec_9c1c_3c7c3fec30a5row6_col2\" class=\"data row6 col2\" >-0.072537</td>\n",
       "                        <td id=\"T_5e640ce9_cba7_11ec_9c1c_3c7c3fec30a5row6_col3\" class=\"data row6 col3\" >0.022656</td>\n",
       "                        <td id=\"T_5e640ce9_cba7_11ec_9c1c_3c7c3fec30a5row6_col4\" class=\"data row6 col4\" >-0.196544</td>\n",
       "                        <td id=\"T_5e640ce9_cba7_11ec_9c1c_3c7c3fec30a5row6_col5\" class=\"data row6 col5\" >0.087050</td>\n",
       "                        <td id=\"T_5e640ce9_cba7_11ec_9c1c_3c7c3fec30a5row6_col6\" class=\"data row6 col6\" >1.000000</td>\n",
       "                        <td id=\"T_5e640ce9_cba7_11ec_9c1c_3c7c3fec30a5row6_col7\" class=\"data row6 col7\" >-0.179276</td>\n",
       "                        <td id=\"T_5e640ce9_cba7_11ec_9c1c_3c7c3fec30a5row6_col8\" class=\"data row6 col8\" >0.077500</td>\n",
       "                        <td id=\"T_5e640ce9_cba7_11ec_9c1c_3c7c3fec30a5row6_col9\" class=\"data row6 col9\" >-0.020438</td>\n",
       "                        <td id=\"T_5e640ce9_cba7_11ec_9c1c_3c7c3fec30a5row6_col10\" class=\"data row6 col10\" >-0.006778</td>\n",
       "                        <td id=\"T_5e640ce9_cba7_11ec_9c1c_3c7c3fec30a5row6_col11\" class=\"data row6 col11\" >0.057384</td>\n",
       "            </tr>\n",
       "            <tr>\n",
       "                        <th id=\"T_5e640ce9_cba7_11ec_9c1c_3c7c3fec30a5level0_row7\" class=\"row_heading level0 row7\" >MaxHR</th>\n",
       "                        <td id=\"T_5e640ce9_cba7_11ec_9c1c_3c7c3fec30a5row7_col0\" class=\"data row7 col0\" >-0.382045</td>\n",
       "                        <td id=\"T_5e640ce9_cba7_11ec_9c1c_3c7c3fec30a5row7_col1\" class=\"data row7 col1\" >-0.189186</td>\n",
       "                        <td id=\"T_5e640ce9_cba7_11ec_9c1c_3c7c3fec30a5row7_col2\" class=\"data row7 col2\" >0.289123</td>\n",
       "                        <td id=\"T_5e640ce9_cba7_11ec_9c1c_3c7c3fec30a5row7_col3\" class=\"data row7 col3\" >-0.112135</td>\n",
       "                        <td id=\"T_5e640ce9_cba7_11ec_9c1c_3c7c3fec30a5row7_col4\" class=\"data row7 col4\" >0.235792</td>\n",
       "                        <td id=\"T_5e640ce9_cba7_11ec_9c1c_3c7c3fec30a5row7_col5\" class=\"data row7 col5\" >-0.131438</td>\n",
       "                        <td id=\"T_5e640ce9_cba7_11ec_9c1c_3c7c3fec30a5row7_col6\" class=\"data row7 col6\" >-0.179276</td>\n",
       "                        <td id=\"T_5e640ce9_cba7_11ec_9c1c_3c7c3fec30a5row7_col7\" class=\"data row7 col7\" >1.000000</td>\n",
       "                        <td id=\"T_5e640ce9_cba7_11ec_9c1c_3c7c3fec30a5row7_col8\" class=\"data row7 col8\" >-0.370425</td>\n",
       "                        <td id=\"T_5e640ce9_cba7_11ec_9c1c_3c7c3fec30a5row7_col9\" class=\"data row7 col9\" >-0.160691</td>\n",
       "                        <td id=\"T_5e640ce9_cba7_11ec_9c1c_3c7c3fec30a5row7_col10\" class=\"data row7 col10\" >0.343419</td>\n",
       "                        <td id=\"T_5e640ce9_cba7_11ec_9c1c_3c7c3fec30a5row7_col11\" class=\"data row7 col11\" >-0.400421</td>\n",
       "            </tr>\n",
       "            <tr>\n",
       "                        <th id=\"T_5e640ce9_cba7_11ec_9c1c_3c7c3fec30a5level0_row8\" class=\"row_heading level0 row8\" >ExerciseAngina</th>\n",
       "                        <td id=\"T_5e640ce9_cba7_11ec_9c1c_3c7c3fec30a5row8_col0\" class=\"data row8 col0\" >0.215793</td>\n",
       "                        <td id=\"T_5e640ce9_cba7_11ec_9c1c_3c7c3fec30a5row8_col1\" class=\"data row8 col1\" >0.190664</td>\n",
       "                        <td id=\"T_5e640ce9_cba7_11ec_9c1c_3c7c3fec30a5row8_col2\" class=\"data row8 col2\" >-0.354727</td>\n",
       "                        <td id=\"T_5e640ce9_cba7_11ec_9c1c_3c7c3fec30a5row8_col3\" class=\"data row8 col3\" >0.155101</td>\n",
       "                        <td id=\"T_5e640ce9_cba7_11ec_9c1c_3c7c3fec30a5row8_col4\" class=\"data row8 col4\" >-0.034166</td>\n",
       "                        <td id=\"T_5e640ce9_cba7_11ec_9c1c_3c7c3fec30a5row8_col5\" class=\"data row8 col5\" >0.060451</td>\n",
       "                        <td id=\"T_5e640ce9_cba7_11ec_9c1c_3c7c3fec30a5row8_col6\" class=\"data row8 col6\" >0.077500</td>\n",
       "                        <td id=\"T_5e640ce9_cba7_11ec_9c1c_3c7c3fec30a5row8_col7\" class=\"data row8 col7\" >-0.370425</td>\n",
       "                        <td id=\"T_5e640ce9_cba7_11ec_9c1c_3c7c3fec30a5row8_col8\" class=\"data row8 col8\" >1.000000</td>\n",
       "                        <td id=\"T_5e640ce9_cba7_11ec_9c1c_3c7c3fec30a5row8_col9\" class=\"data row8 col9\" >0.408752</td>\n",
       "                        <td id=\"T_5e640ce9_cba7_11ec_9c1c_3c7c3fec30a5row8_col10\" class=\"data row8 col10\" >-0.428706</td>\n",
       "                        <td id=\"T_5e640ce9_cba7_11ec_9c1c_3c7c3fec30a5row8_col11\" class=\"data row8 col11\" >0.494282</td>\n",
       "            </tr>\n",
       "            <tr>\n",
       "                        <th id=\"T_5e640ce9_cba7_11ec_9c1c_3c7c3fec30a5level0_row9\" class=\"row_heading level0 row9\" >Oldpeak</th>\n",
       "                        <td id=\"T_5e640ce9_cba7_11ec_9c1c_3c7c3fec30a5row9_col0\" class=\"data row9 col0\" >0.258612</td>\n",
       "                        <td id=\"T_5e640ce9_cba7_11ec_9c1c_3c7c3fec30a5row9_col1\" class=\"data row9 col1\" >0.105734</td>\n",
       "                        <td id=\"T_5e640ce9_cba7_11ec_9c1c_3c7c3fec30a5row9_col2\" class=\"data row9 col2\" >-0.177377</td>\n",
       "                        <td id=\"T_5e640ce9_cba7_11ec_9c1c_3c7c3fec30a5row9_col3\" class=\"data row9 col3\" >0.164803</td>\n",
       "                        <td id=\"T_5e640ce9_cba7_11ec_9c1c_3c7c3fec30a5row9_col4\" class=\"data row9 col4\" >0.050148</td>\n",
       "                        <td id=\"T_5e640ce9_cba7_11ec_9c1c_3c7c3fec30a5row9_col5\" class=\"data row9 col5\" >0.052698</td>\n",
       "                        <td id=\"T_5e640ce9_cba7_11ec_9c1c_3c7c3fec30a5row9_col6\" class=\"data row9 col6\" >-0.020438</td>\n",
       "                        <td id=\"T_5e640ce9_cba7_11ec_9c1c_3c7c3fec30a5row9_col7\" class=\"data row9 col7\" >-0.160691</td>\n",
       "                        <td id=\"T_5e640ce9_cba7_11ec_9c1c_3c7c3fec30a5row9_col8\" class=\"data row9 col8\" >0.408752</td>\n",
       "                        <td id=\"T_5e640ce9_cba7_11ec_9c1c_3c7c3fec30a5row9_col9\" class=\"data row9 col9\" >1.000000</td>\n",
       "                        <td id=\"T_5e640ce9_cba7_11ec_9c1c_3c7c3fec30a5row9_col10\" class=\"data row9 col10\" >-0.501921</td>\n",
       "                        <td id=\"T_5e640ce9_cba7_11ec_9c1c_3c7c3fec30a5row9_col11\" class=\"data row9 col11\" >0.403951</td>\n",
       "            </tr>\n",
       "            <tr>\n",
       "                        <th id=\"T_5e640ce9_cba7_11ec_9c1c_3c7c3fec30a5level0_row10\" class=\"row_heading level0 row10\" >ST_Slope</th>\n",
       "                        <td id=\"T_5e640ce9_cba7_11ec_9c1c_3c7c3fec30a5row10_col0\" class=\"data row10 col0\" >-0.268264</td>\n",
       "                        <td id=\"T_5e640ce9_cba7_11ec_9c1c_3c7c3fec30a5row10_col1\" class=\"data row10 col1\" >-0.150693</td>\n",
       "                        <td id=\"T_5e640ce9_cba7_11ec_9c1c_3c7c3fec30a5row10_col2\" class=\"data row10 col2\" >0.213521</td>\n",
       "                        <td id=\"T_5e640ce9_cba7_11ec_9c1c_3c7c3fec30a5row10_col3\" class=\"data row10 col3\" >-0.075162</td>\n",
       "                        <td id=\"T_5e640ce9_cba7_11ec_9c1c_3c7c3fec30a5row10_col4\" class=\"data row10 col4\" >0.111471</td>\n",
       "                        <td id=\"T_5e640ce9_cba7_11ec_9c1c_3c7c3fec30a5row10_col5\" class=\"data row10 col5\" >-0.175774</td>\n",
       "                        <td id=\"T_5e640ce9_cba7_11ec_9c1c_3c7c3fec30a5row10_col6\" class=\"data row10 col6\" >-0.006778</td>\n",
       "                        <td id=\"T_5e640ce9_cba7_11ec_9c1c_3c7c3fec30a5row10_col7\" class=\"data row10 col7\" >0.343419</td>\n",
       "                        <td id=\"T_5e640ce9_cba7_11ec_9c1c_3c7c3fec30a5row10_col8\" class=\"data row10 col8\" >-0.428706</td>\n",
       "                        <td id=\"T_5e640ce9_cba7_11ec_9c1c_3c7c3fec30a5row10_col9\" class=\"data row10 col9\" >-0.501921</td>\n",
       "                        <td id=\"T_5e640ce9_cba7_11ec_9c1c_3c7c3fec30a5row10_col10\" class=\"data row10 col10\" >1.000000</td>\n",
       "                        <td id=\"T_5e640ce9_cba7_11ec_9c1c_3c7c3fec30a5row10_col11\" class=\"data row10 col11\" >-0.558771</td>\n",
       "            </tr>\n",
       "            <tr>\n",
       "                        <th id=\"T_5e640ce9_cba7_11ec_9c1c_3c7c3fec30a5level0_row11\" class=\"row_heading level0 row11\" >HeartDisease</th>\n",
       "                        <td id=\"T_5e640ce9_cba7_11ec_9c1c_3c7c3fec30a5row11_col0\" class=\"data row11 col0\" >0.282039</td>\n",
       "                        <td id=\"T_5e640ce9_cba7_11ec_9c1c_3c7c3fec30a5row11_col1\" class=\"data row11 col1\" >0.305445</td>\n",
       "                        <td id=\"T_5e640ce9_cba7_11ec_9c1c_3c7c3fec30a5row11_col2\" class=\"data row11 col2\" >-0.386828</td>\n",
       "                        <td id=\"T_5e640ce9_cba7_11ec_9c1c_3c7c3fec30a5row11_col3\" class=\"data row11 col3\" >0.107589</td>\n",
       "                        <td id=\"T_5e640ce9_cba7_11ec_9c1c_3c7c3fec30a5row11_col4\" class=\"data row11 col4\" >-0.232741</td>\n",
       "                        <td id=\"T_5e640ce9_cba7_11ec_9c1c_3c7c3fec30a5row11_col5\" class=\"data row11 col5\" >0.267291</td>\n",
       "                        <td id=\"T_5e640ce9_cba7_11ec_9c1c_3c7c3fec30a5row11_col6\" class=\"data row11 col6\" >0.057384</td>\n",
       "                        <td id=\"T_5e640ce9_cba7_11ec_9c1c_3c7c3fec30a5row11_col7\" class=\"data row11 col7\" >-0.400421</td>\n",
       "                        <td id=\"T_5e640ce9_cba7_11ec_9c1c_3c7c3fec30a5row11_col8\" class=\"data row11 col8\" >0.494282</td>\n",
       "                        <td id=\"T_5e640ce9_cba7_11ec_9c1c_3c7c3fec30a5row11_col9\" class=\"data row11 col9\" >0.403951</td>\n",
       "                        <td id=\"T_5e640ce9_cba7_11ec_9c1c_3c7c3fec30a5row11_col10\" class=\"data row11 col10\" >-0.558771</td>\n",
       "                        <td id=\"T_5e640ce9_cba7_11ec_9c1c_3c7c3fec30a5row11_col11\" class=\"data row11 col11\" >1.000000</td>\n",
       "            </tr>\n",
       "    </tbody></table>"
      ],
      "text/plain": [
       "<pandas.io.formats.style.Styler at 0x29399eea610>"
      ]
     },
     "execution_count": 13,
     "metadata": {},
     "output_type": "execute_result"
    }
   ],
   "source": [
    "# Generate Heatmap to assess cross-variable correlation for another visualization\n",
    "corr = num_df.corr()\n",
    "corr.style.background_gradient(cmap='Spectral')"
   ]
  },
  {
   "cell_type": "markdown",
   "metadata": {},
   "source": [
    "# Feature Selection/Engineering"
   ]
  },
  {
   "cell_type": "code",
   "execution_count": 14,
   "metadata": {},
   "outputs": [
    {
     "data": {
      "text/html": [
       "<div>\n",
       "<style scoped>\n",
       "    .dataframe tbody tr th:only-of-type {\n",
       "        vertical-align: middle;\n",
       "    }\n",
       "\n",
       "    .dataframe tbody tr th {\n",
       "        vertical-align: top;\n",
       "    }\n",
       "\n",
       "    .dataframe thead th {\n",
       "        text-align: right;\n",
       "    }\n",
       "</style>\n",
       "<table border=\"1\" class=\"dataframe\">\n",
       "  <thead>\n",
       "    <tr style=\"text-align: right;\">\n",
       "      <th></th>\n",
       "      <th>RestingECG</th>\n",
       "      <th>RestingBP</th>\n",
       "      <th>FastingBS</th>\n",
       "      <th>Sex</th>\n",
       "      <th>Oldpeak</th>\n",
       "      <th>ExerciseAngina</th>\n",
       "      <th>HeartDisease</th>\n",
       "    </tr>\n",
       "  </thead>\n",
       "  <tbody>\n",
       "    <tr>\n",
       "      <th>0</th>\n",
       "      <td>0.5</td>\n",
       "      <td>0.70</td>\n",
       "      <td>0.0</td>\n",
       "      <td>1.0</td>\n",
       "      <td>0.295455</td>\n",
       "      <td>0.0</td>\n",
       "      <td>0.0</td>\n",
       "    </tr>\n",
       "    <tr>\n",
       "      <th>1</th>\n",
       "      <td>0.5</td>\n",
       "      <td>0.80</td>\n",
       "      <td>0.0</td>\n",
       "      <td>0.0</td>\n",
       "      <td>0.409091</td>\n",
       "      <td>0.0</td>\n",
       "      <td>1.0</td>\n",
       "    </tr>\n",
       "    <tr>\n",
       "      <th>2</th>\n",
       "      <td>1.0</td>\n",
       "      <td>0.65</td>\n",
       "      <td>0.0</td>\n",
       "      <td>1.0</td>\n",
       "      <td>0.295455</td>\n",
       "      <td>0.0</td>\n",
       "      <td>0.0</td>\n",
       "    </tr>\n",
       "    <tr>\n",
       "      <th>3</th>\n",
       "      <td>0.5</td>\n",
       "      <td>0.69</td>\n",
       "      <td>0.0</td>\n",
       "      <td>0.0</td>\n",
       "      <td>0.465909</td>\n",
       "      <td>1.0</td>\n",
       "      <td>1.0</td>\n",
       "    </tr>\n",
       "    <tr>\n",
       "      <th>4</th>\n",
       "      <td>0.5</td>\n",
       "      <td>0.75</td>\n",
       "      <td>0.0</td>\n",
       "      <td>1.0</td>\n",
       "      <td>0.295455</td>\n",
       "      <td>0.0</td>\n",
       "      <td>0.0</td>\n",
       "    </tr>\n",
       "  </tbody>\n",
       "</table>\n",
       "</div>"
      ],
      "text/plain": [
       "   RestingECG  RestingBP  FastingBS  Sex   Oldpeak  ExerciseAngina  \\\n",
       "0         0.5       0.70        0.0  1.0  0.295455             0.0   \n",
       "1         0.5       0.80        0.0  0.0  0.409091             0.0   \n",
       "2         1.0       0.65        0.0  1.0  0.295455             0.0   \n",
       "3         0.5       0.69        0.0  0.0  0.465909             1.0   \n",
       "4         0.5       0.75        0.0  1.0  0.295455             0.0   \n",
       "\n",
       "   HeartDisease  \n",
       "0           0.0  \n",
       "1           1.0  \n",
       "2           0.0  \n",
       "3           1.0  \n",
       "4           0.0  "
      ]
     },
     "execution_count": 14,
     "metadata": {},
     "output_type": "execute_result"
    }
   ],
   "source": [
    "# Select features with positive correlation > 0.0 -- arbitarily set\n",
    "new_features = [feature for feature in sorted_corr.keys() if sorted_corr[feature] > 0.0]\n",
    "new_num_df = num_df[new_features]\n",
    "new_num_df.head()"
   ]
  },
  {
   "cell_type": "markdown",
   "metadata": {},
   "source": [
    "# Machine Learning Model Application"
   ]
  },
  {
   "cell_type": "code",
   "execution_count": 15,
   "metadata": {},
   "outputs": [],
   "source": [
    "# Used for cross validating models to obtain holistic picture of model performance\n",
    "from sklearn.model_selection import cross_val_score\n",
    "from sklearn.model_selection import cross_val_predict\n",
    "from sklearn.model_selection import train_test_split\n",
    "labels = ['NoHeartDisease','HeartDisease']\n",
    "best_scores={}"
   ]
  },
  {
   "cell_type": "code",
   "execution_count": 16,
   "metadata": {},
   "outputs": [],
   "source": [
    "# Split dataset into features and labels\n",
    "X = new_num_df.drop('HeartDisease',1)\n",
    "y = new_num_df['HeartDisease']\n",
    "\n",
    "# Split dataset into training and testing; training used to tune parameters and fit models, test used to evaluate model performance\n",
    "X_train, X_test, y_train, y_test = train_test_split(X,y,test_size=0.3, random_state=1)"
   ]
  },
  {
   "cell_type": "markdown",
   "metadata": {},
   "source": [
    "## k-Nearest Neighbor (kNN)"
   ]
  },
  {
   "cell_type": "code",
   "execution_count": 17,
   "metadata": {},
   "outputs": [],
   "source": [
    "# Determine optimal K value for kNN\n",
    "from sklearn.neighbors import KNeighborsClassifier\n",
    "from sklearn import metrics\n",
    "k_range = range(1,200)\n",
    "scores = {}\n",
    "for k in k_range:\n",
    "    clf = KNeighborsClassifier(n_neighbors=k)\n",
    "    scores[k] = cross_val_score(clf,X_train,y_train, cv=10).mean()\n",
    "opt_k = max(scores, key=scores.get)"
   ]
  },
  {
   "cell_type": "code",
   "execution_count": 77,
   "metadata": {},
   "outputs": [
    {
     "name": "stdout",
     "output_type": "stream",
     "text": [
      "Optimal K: 13\n",
      "Optimal training accuracy: 0.7944951923076923\n"
     ]
    },
    {
     "data": {
      "text/plain": [
       "Text(13, 0.7944951923076923, 'Optimal K')"
      ]
     },
     "execution_count": 77,
     "metadata": {},
     "output_type": "execute_result"
    },
    {
     "data": {
      "image/png": "[encoded data removed]",
      "text/plain": [
       "<Figure size 432x288 with 1 Axes>"
      ]
     },
     "metadata": {
      "needs_background": "light"
     },
     "output_type": "display_data"
    }
   ],
   "source": [
    "print(\"Optimal K: %d\" % opt_k)\n",
    "print(\"Optimal training accuracy: \"+ str(scores[opt_k]))\n",
    "plt.plot(scores.keys(), scores.values())\n",
    "plt.title('Accuracy score vs K value for kNN')\n",
    "plt.xlabel('K value')\n",
    "plt.ylabel('Accuracy score')\n",
    "plt.annotate(text='Optimal K',xy=(opt_k,scores[opt_k]),arrowprops=dict(facecolor='black',shrink=0.05))"
   ]
  },
  {
   "cell_type": "code",
   "execution_count": 19,
   "metadata": {},
   "outputs": [
    {
     "name": "stdout",
     "output_type": "stream",
     "text": [
      "kNN testing score: 0.782609\n"
     ]
    }
   ],
   "source": [
    "# Test kNN with optimal K on testing dataset\n",
    "opt_knn = KNeighborsClassifier(n_neighbors=opt_k).fit(X_train,y_train)\n",
    "best_knn_pred = opt_knn.predict(X_test)\n",
    "best_knn_score = opt_knn.score(X_test,y_test)\n",
    "best_scores['knn'] = best_knn_score\n",
    "print('kNN testing score: %f' % best_knn_score)"
   ]
  },
  {
   "cell_type": "code",
   "execution_count": 20,
   "metadata": {},
   "outputs": [
    {
     "data": {
      "text/plain": [
       "<sklearn.metrics._plot.confusion_matrix.ConfusionMatrixDisplay at 0x2939a65ae80>"
      ]
     },
     "execution_count": 20,
     "metadata": {},
     "output_type": "execute_result"
    },
    {
     "data": {
      "image/png": "[encoded data removed]",
      "text/plain": [
       "<Figure size 432x288 with 2 Axes>"
      ]
     },
     "metadata": {
      "needs_background": "light"
     },
     "output_type": "display_data"
    }
   ],
   "source": [
    "# Plot confusion matrix for kNN with optimal K\n",
    "cm = metrics.confusion_matrix(best_knn_pred,y_test)\n",
    "disp = metrics.ConfusionMatrixDisplay(confusion_matrix=cm, display_labels=['No Heart Disease','Heart Disease'])\n",
    "disp.plot()"
   ]
  },
  {
   "cell_type": "code",
   "execution_count": 21,
   "metadata": {},
   "outputs": [
    {
     "data": {
      "text/plain": [
       "[]"
      ]
     },
     "execution_count": 21,
     "metadata": {},
     "output_type": "execute_result"
    },
    {
     "data": {
      "image/png": "[encoded data removed]",
      "text/plain": [
       "<Figure size 432x288 with 2 Axes>"
      ]
     },
     "metadata": {
      "needs_background": "light"
     },
     "output_type": "display_data"
    }
   ],
   "source": [
    "# Plot classification report for kNN\n",
    "knn_report = metrics.classification_report(best_knn_pred,y_test,output_dict=True)\n",
    "knn_report = sns.heatmap(pd.DataFrame(knn_report).iloc[:-1].T, annot=True)\n",
    "knn_report.plot()"
   ]
  },
  {
   "cell_type": "markdown",
   "metadata": {},
   "source": [
    "## Multi-Layer Perceptron"
   ]
  },
  {
   "cell_type": "code",
   "execution_count": 22,
   "metadata": {},
   "outputs": [],
   "source": [
    "# Find best specified hyperparameters for MLP with GridSearchCV\n",
    "from sklearn.neural_network import MLPClassifier\n",
    "from sklearn.model_selection import GridSearchCV"
   ]
  },
  {
   "cell_type": "code",
   "execution_count": 23,
   "metadata": {},
   "outputs": [],
   "source": [
    "# Ignore sklearn warnings\n",
    "import sys\n",
    "import warnings\n",
    "import os\n",
    "if not sys.warnoptions:\n",
    "    warnings.simplefilter(\"ignore\")\n",
    "    os.environ[\"PYTHONWARNINGS\"] = \"ignore\""
   ]
  },
  {
   "cell_type": "code",
   "execution_count": 49,
   "metadata": {},
   "outputs": [
    {
     "data": {
      "text/plain": [
       "GridSearchCV(cv=3, estimator=MLPClassifier(random_state=0),\n",
       "             param_grid={'activation': ['logistic', 'tanh', 'relu'],\n",
       "                         'alpha': [0.0001, 0.1],\n",
       "                         'hidden_layer_sizes': [(10, 30, 10), (20,)],\n",
       "                         'learning_rate': ['constant', 'adaptive'],\n",
       "                         'solver': ['lbfgs', 'adam']})"
      ]
     },
     "execution_count": 49,
     "metadata": {},
     "output_type": "execute_result"
    }
   ],
   "source": [
    "mlp = MLPClassifier(random_state=0)\n",
    "# Define which hyperparameters will be tested\n",
    "parameter_grid = {\n",
    "    \"hidden_layer_sizes\": [(10,30,10),(20,)],\n",
    "    'activation': ['logistic','tanh','relu'],\n",
    "    'solver': ['lbfgs','adam'],\n",
    "    'alpha': [0.0001,0.1],\n",
    "    'learning_rate': ['constant','adaptive']\n",
    "}\n",
    "clf = GridSearchCV(mlp,param_grid=parameter_grid,cv=3)\n",
    "clf.fit(X_train,y_train)"
   ]
  },
  {
   "cell_type": "code",
   "execution_count": 101,
   "metadata": {},
   "outputs": [
    {
     "name": "stdout",
     "output_type": "stream",
     "text": [
      "Best params:  {'criterion': 'friedman_mse', 'learning_rate': 0.01, 'max_depth': 3, 'max_features': 'log2', 'min_samples_leaf': 5, 'min_samples_split': 2, 'n_estimators': 200}\n"
     ]
    }
   ],
   "source": [
    "# Find best parameters, use for scoring\n",
    "print('Best params: ', clf.best_params_ )"
   ]
  },
  {
   "cell_type": "code",
   "execution_count": 104,
   "metadata": {},
   "outputs": [
    {
     "name": "stdout",
     "output_type": "stream",
     "text": [
      "MLP testing score:  0.7898550724637681\n"
     ]
    }
   ],
   "source": [
    "# Find scores for MLP with best parameters\n",
    "best_mlp = MLPClassifier(hidden_layer_sizes=(20,), activation='logistic', alpha=0.1, learning_rate='constant', solver='lbfgs',random_state= )\n",
    "best_mlp.fit(X_train,y_train)\n",
    "mlp_pred = best_mlp.predict(X_test)\n",
    "mlp_score = best_mlp.score(X_test,y_test)\n",
    "print('MLP testing score: ', mlp_score)\n",
    "best_scores['mlp'] = mlp_score"
   ]
  },
  {
   "cell_type": "code",
   "execution_count": 110,
   "metadata": {},
   "outputs": [
    {
     "data": {
      "text/plain": [
       "[]"
      ]
     },
     "execution_count": 110,
     "metadata": {},
     "output_type": "execute_result"
    },
    {
     "data": {
      "image/png": "[encoded data removed]",
      "text/plain": [
       "<Figure size 432x288 with 2 Axes>"
      ]
     },
     "metadata": {
      "needs_background": "light"
     },
     "output_type": "display_data"
    }
   ],
   "source": [
    "# Plot classification report for MLP\n",
    "mlp_report = metrics.classification_report(mlp_pred,y_test,output_dict=True)\n",
    "mlp_report = sns.heatmap(pd.DataFrame(mlp_report).iloc[:-1].T, annot=True)\n",
    "mlp_report.plot()"
   ]
  },
  {
   "cell_type": "code",
   "execution_count": 111,
   "metadata": {},
   "outputs": [
    {
     "data": {
      "text/plain": [
       "<sklearn.metrics._plot.confusion_matrix.ConfusionMatrixDisplay at 0x293a789d700>"
      ]
     },
     "execution_count": 111,
     "metadata": {},
     "output_type": "execute_result"
    },
    {
     "data": {
      "image/png": "[encoded data removed]",
      "text/plain": [
       "<Figure size 432x288 with 2 Axes>"
      ]
     },
     "metadata": {
      "needs_background": "light"
     },
     "output_type": "display_data"
    }
   ],
   "source": [
    "mlp_cm = metrics.confusion_matrix(mlp_pred,y_test)\n",
    "mlp_disp = metrics.ConfusionMatrixDisplay(confusion_matrix=mlp_cm, display_labels=['No Heart Disease','Heart Disease'])\n",
    "mlp_disp.plot()"
   ]
  },
  {
   "cell_type": "markdown",
   "metadata": {},
   "source": [
    "## Support Vector Machine"
   ]
  },
  {
   "cell_type": "code",
   "execution_count": 58,
   "metadata": {},
   "outputs": [
    {
     "data": {
      "text/plain": [
       "GridSearchCV(cv=3, estimator=SVC(),\n",
       "             param_grid={'C': [0.1, 1, 10, 100], 'gamma': [1, 0.1, 0.01, 0.001],\n",
       "                         'kernel': ['rbf', 'poly', 'sigmoid']})"
      ]
     },
     "execution_count": 58,
     "metadata": {},
     "output_type": "execute_result"
    }
   ],
   "source": [
    "from sklearn.svm import SVC\n",
    "# Use GridSearchCV to find optimal hyperparameters\n",
    "param_space = {\n",
    "    'C': [0.1,1,10,100],\n",
    "    'gamma': [1,0.1,0.01,0.001],\n",
    "    'kernel': ['rbf','poly','sigmoid']\n",
    "}\n",
    "svm_c = SVC()\n",
    "grid = GridSearchCV(svm_c, param_space, cv=3)\n",
    "grid.fit(X_train,y_train)"
   ]
  },
  {
   "cell_type": "code",
   "execution_count": 59,
   "metadata": {},
   "outputs": [
    {
     "name": "stdout",
     "output_type": "stream",
     "text": [
      "Best params for SVM:  {'C': 1, 'gamma': 1, 'kernel': 'poly'}\n"
     ]
    }
   ],
   "source": [
    "# Find best parameters for SVM model, use to predict on test set\n",
    "print('Best params for SVM: ', grid.best_params_)"
   ]
  },
  {
   "cell_type": "code",
   "execution_count": 60,
   "metadata": {},
   "outputs": [
    {
     "name": "stdout",
     "output_type": "stream",
     "text": [
      "SVM testing accuracy:  0.7934782608695652\n"
     ]
    }
   ],
   "source": [
    "opt_svm = SVC(C=1, gamma=1, kernel='poly')\n",
    "opt_svm.fit(X_train,y_train)\n",
    "svm_pred = opt_svm.predict(X_test)\n",
    "svm_score = opt_svm.score(X_test,y_test)\n",
    "print('SVM testing accuracy: ',svm_score)\n",
    "best_scores['svm'] = svm_score"
   ]
  },
  {
   "cell_type": "code",
   "execution_count": 61,
   "metadata": {},
   "outputs": [
    {
     "data": {
      "text/plain": [
       "[]"
      ]
     },
     "execution_count": 61,
     "metadata": {},
     "output_type": "execute_result"
    },
    {
     "data": {
      "image/png": "[encoded data removed]",
      "text/plain": [
       "<Figure size 432x288 with 2 Axes>"
      ]
     },
     "metadata": {
      "needs_background": "light"
     },
     "output_type": "display_data"
    }
   ],
   "source": [
    "# Plot classification report for SVM\n",
    "svm_report = metrics.classification_report(svm_pred,y_test,output_dict=True)\n",
    "svm_report = sns.heatmap(pd.DataFrame(svm_report).iloc[:-1].T, annot=True)\n",
    "svm_report.plot()"
   ]
  },
  {
   "cell_type": "code",
   "execution_count": 62,
   "metadata": {},
   "outputs": [
    {
     "data": {
      "text/plain": [
       "<sklearn.metrics._plot.confusion_matrix.ConfusionMatrixDisplay at 0x293a399f1c0>"
      ]
     },
     "execution_count": 62,
     "metadata": {},
     "output_type": "execute_result"
    },
    {
     "data": {
      "image/png": "[encoded data removed]",
      "text/plain": [
       "<Figure size 432x288 with 2 Axes>"
      ]
     },
     "metadata": {
      "needs_background": "light"
     },
     "output_type": "display_data"
    }
   ],
   "source": [
    "svm_cm = metrics.confusion_matrix(svm_pred,y_test)\n",
    "svm_disp = metrics.ConfusionMatrixDisplay(confusion_matrix=svm_cm, display_labels=['No Heart Disease','Heart Disease'])\n",
    "svm_disp.plot()"
   ]
  },
  {
   "cell_type": "markdown",
   "metadata": {},
   "source": [
    "## Ensemble learning method: Gradient Boosting"
   ]
  },
  {
   "cell_type": "code",
   "execution_count": 64,
   "metadata": {},
   "outputs": [
    {
     "data": {
      "text/plain": [
       "GridSearchCV(cv=3, estimator=GradientBoostingClassifier(random_state=0),\n",
       "             param_grid={'criterion': ['friedman_mse', 'squared_error', 'mse'],\n",
       "                         'learning_rate': [0.01, 0.1, 1, 10],\n",
       "                         'max_depth': [3, 5, 8],\n",
       "                         'max_features': ['log2', 'sqrt'],\n",
       "                         'min_samples_leaf': [1, 5],\n",
       "                         'min_samples_split': [2, 4, 6, 8],\n",
       "                         'n_estimators': [10, 50, 100, 200]})"
      ]
     },
     "execution_count": 64,
     "metadata": {},
     "output_type": "execute_result"
    }
   ],
   "source": [
    "from sklearn.ensemble import GradientBoostingClassifier\n",
    "# Using GridSearchCV to find optimal parameters\n",
    "param_space = {\n",
    "    'learning_rate': [0.01,0.1,1,10],\n",
    "    'n_estimators':[10,50,100,200],\n",
    "    'min_samples_split': [2,4,6,8],\n",
    "    'min_samples_leaf': [1,5],\n",
    "    'max_depth': [3,5,8],\n",
    "    'max_features': ['log2','sqrt'],\n",
    "    'criterion':['friedman_mse','squared_error','mse'],\n",
    "}\n",
    "clf = GridSearchCV(GradientBoostingClassifier(random_state=0),param_space,cv=3)\n",
    "clf.fit(X_train,y_train)"
   ]
  },
  {
   "cell_type": "code",
   "execution_count": 35,
   "metadata": {},
   "outputs": [
    {
     "name": "stdout",
     "output_type": "stream",
     "text": [
      "Best GB parameters:  {'criterion': 'mse', 'learning_rate': 0.01, 'max_depth': 5, 'max_features': 'log2', 'min_samples_leaf': 5, 'min_samples_split': 2, 'n_estimators': 50}\n"
     ]
    }
   ],
   "source": [
    "print(\"Best GB parameters: \", clf.best_params_)"
   ]
  },
  {
   "cell_type": "code",
   "execution_count": 107,
   "metadata": {},
   "outputs": [
    {
     "name": "stdout",
     "output_type": "stream",
     "text": [
      "Test accuracy of GBC:  0.8043478260869565\n"
     ]
    }
   ],
   "source": [
    "# Test GB classifier on test set\n",
    "gbc= GradientBoostingClassifier(criterion='mse',learning_rate=0.01,max_depth=3,max_features='log2', min_samples_leaf=5,min_samples_split=2, n_estimators=50, random_state=0)\n",
    "gbc.fit(X_train,y_train)\n",
    "gbc_pred = gbc.predict(X_test)\n",
    "gbc_score = gbc.score(X_test,y_test)\n",
    "print(\"Test accuracy of GBC: \", gbc_score)\n",
    "best_scores['gbc']=gbc_score"
   ]
  },
  {
   "cell_type": "code",
   "execution_count": 37,
   "metadata": {},
   "outputs": [
    {
     "data": {
      "text/plain": [
       "[]"
      ]
     },
     "execution_count": 37,
     "metadata": {},
     "output_type": "execute_result"
    },
    {
     "data": {
      "image/png": "[encoded data removed]",
      "text/plain": [
       "<Figure size 432x288 with 2 Axes>"
      ]
     },
     "metadata": {
      "needs_background": "light"
     },
     "output_type": "display_data"
    }
   ],
   "source": [
    "# Plot classification report for GBC\n",
    "gbc_report = metrics.classification_report(gbc_pred,y_test,output_dict=True)\n",
    "gbc_report = sns.heatmap(pd.DataFrame(gbc_report).iloc[:-1].T, annot=True)\n",
    "gbc_report.plot()"
   ]
  },
  {
   "cell_type": "code",
   "execution_count": 38,
   "metadata": {},
   "outputs": [
    {
     "data": {
      "text/plain": [
       "<sklearn.metrics._plot.confusion_matrix.ConfusionMatrixDisplay at 0x2939bea4e20>"
      ]
     },
     "execution_count": 38,
     "metadata": {},
     "output_type": "execute_result"
    },
    {
     "data": {
      "image/png": "[encoded data removed]",
      "text/plain": [
       "<Figure size 432x288 with 2 Axes>"
      ]
     },
     "metadata": {
      "needs_background": "light"
     },
     "output_type": "display_data"
    }
   ],
   "source": [
    "gbc_cm = metrics.confusion_matrix(gbc_pred,y_test)\n",
    "gbc_disp = metrics.ConfusionMatrixDisplay(confusion_matrix=gbc_cm, display_labels=['No Heart Disease','Heart Disease'])\n",
    "gbc_disp.plot()"
   ]
  },
  {
   "cell_type": "code",
   "execution_count": 109,
   "metadata": {},
   "outputs": [
    {
     "data": {
      "text/plain": [
       "{'knn': 0.782608695652174,\n",
       " 'mlp': 0.7898550724637681,\n",
       " 'svm': 0.7934782608695652,\n",
       " 'gbc': 0.8043478260869565}"
      ]
     },
     "execution_count": 109,
     "metadata": {},
     "output_type": "execute_result"
    },
    {
     "data": {
      "image/png": "[encoded data removed]",
      "text/plain": [
       "<Figure size 432x288 with 1 Axes>"
      ]
     },
     "metadata": {
      "needs_background": "light"
     },
     "output_type": "display_data"
    }
   ],
   "source": [
    "plt.bar(best_scores.keys(),best_scores.values(),color=['black','red','yellow','blue'])\n",
    "plt.axis([-1,4,0.77,0.81])\n",
    "plt.xlabel('Model')\n",
    "plt.ylabel('Accuracy score')\n",
    "plt.title('Testing accuracies for each model type')\n",
    "best_scores"
   ]
  }
 ],
 "metadata": {
  "kernelspec": {
   "display_name": "Python 3",
   "language": "python",
   "name": "python3"
  },
  "language_info": {
   "codemirror_mode": {
    "name": "ipython",
    "version": 3
   },
   "file_extension": ".py",
   "mimetype": "text/x-python",
   "name": "python",
   "nbconvert_exporter": "python",
   "pygments_lexer": "ipython3",
   "version": "3.8.5"
  }
 },
 "nbformat": 4,
 "nbformat_minor": 5
}
